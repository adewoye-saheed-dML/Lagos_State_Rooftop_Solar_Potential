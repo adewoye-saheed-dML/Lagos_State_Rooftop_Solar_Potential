{
 "cells": [
  {
   "cell_type": "markdown",
   "id": "2b7a9114-24d8-48c7-af32-0a036f85fa8f",
   "metadata": {},
   "source": [
    "<div align=\"center\" style=\"font-size: 40%; text-align: center; margin: 0 auto\">\n",
    "  <img src=\"https://media.licdn.com/dms/image/v2/D4E03AQFyxl108wiYdQ/profile-displayphoto-shrink_800_800/profile-displayphoto-shrink_800_800/0/1731075663012?e=1740009600&v=beta&t=q8KMur70v2sybz2H3GQFStBl5yASBt3sOWyX790cgRs\"  \n",
    "       style=\"display: block; margin-left: auto; margin-right: auto; width: 150px; height: 150px; border-radius: 50%;\"/>\n",
    "</div>"
   ]
  },
  {
   "cell_type": "markdown",
   "id": "77180d22-b17d-40b1-9208-659294fffa06",
   "metadata": {},
   "source": [
    " "
   ]
  },
  {
   "cell_type": "markdown",
   "id": "559a8a9b-b05b-4ec3-9bee-ece55b4779e6",
   "metadata": {},
   "source": [
    "# Lagos State Rooftop Solar Potential Dashboard"
   ]
  },
  {
   "cell_type": "markdown",
   "id": "1a0f3ca5-fa33-4058-add3-df3e836d8296",
   "metadata": {},
   "source": [
    "Nigeria, with an average solar irradiance of [5.5 kWh/m²/day](https://wjarr.com/content/challenges-and-opportunities-nigerias-renewable-energy-policy-and-legislation), holds immense potential for utilizing solar energy, especially in urban areas like Lagos with dense building distributions. With the increasing demand for sustainable energy solutions, Lagos State, as a bustling urban hub in Nigeria, presents a significant opportunity for rooftop solar energy adoption. \n",
    "\n",
    "This project focuses on leveraging geospatial data to assess and visualize the rooftop solar potential of Lagos State. The dataset includes detailed information on over **1.5 million building polygons**, with attributes such as total rooftop area, potential installable solar capacity, and annual energy potential. The insights derived from this project aim to support stakeholders in the renewable energy sector, policymakers, and businesses in making data-driven decisions for promoting solar energy adoption."
   ]
  },
  {
   "cell_type": "markdown",
   "id": "a972198a-c472-46e3-afd5-fbb459ea60e0",
   "metadata": {},
   "source": [
    "<div align=\"center\" style=\" font-size: 5%; text-align: center; margin: 0 auto\">\n",
    "<img src=\"https://paintmaps.com/og_image/map_chart/map_chart_1424c.png\"  style=\"display: block; margin-left: auto; margin-right: auto; width: 50%;\";/>\n",
    "</div>"
   ]
  },
  {
   "cell_type": "markdown",
   "id": "8b19584c-72fc-4bed-88ad-c9886243555b",
   "metadata": {},
   "source": [
    "## Key Features of the Project:\n",
    "- Dataset Overview: A comprehensive dataset containing features like rooftop surface area, energy potential, peak installable capacity, building types, roof quality, and solar installation status.\n",
    "  \n",
    "- Analytical Insights: Identification of high-potential areas, existing solar adoption gaps, and efficiency hotspots.\n",
    "\n",
    "- Interactive Dashboard: A user-friendly Power BI dashboard visualizing solar potential across Lagos, enabling stakeholders to explore key metrics like energy output, installation capacity, and building suitability."
   ]
  },
  {
   "cell_type": "markdown",
   "id": "d02cd68f-86c6-4a13-b818-872e6971be72",
   "metadata": {},
   "source": [
    "## Data dictionary\n",
    "\n",
    "I got the dataset used in this analysis from [energydata.info](https://energydata.info/dataset/lagos-state-rooftop-solar-potential-mapping). \n",
    "\n",
    "Below are the fields present in the dataset."
   ]
  },
  {
   "cell_type": "markdown",
   "id": "0e42e81c-5776-48cd-9309-442431d338b3",
   "metadata": {},
   "source": [
    "| S/N | Column                        | Unit       | Description                                                                                 |\n",
    "|-----|-------------------------------|------------|---------------------------------------------------------------------------------------------|\n",
    "| 1   | OBJECTID                      | NA         | OBJECTID is the sequential count                                                           |\n",
    "| 2   | uuid                          | NA         | uuid is the unique id of each building structure polygon.                                   |\n",
    "| 3   | city                          | NA         | city tells the study area                                                                   |\n",
    "| 4   | Surface_area                  | m²         | Surface area is the calculated total rooftop area of the building polygon                  |\n",
    "| 5   | Potential_installable_area    | m²         | Potential_installable_area is the estimated suitable rooftop area for solar panel installation. |\n",
    "| 6   | Peak_installable_capacity     | kWp        | installable_capacity is the estimated installable capacity based on the suitable area of the rooftop. |\n",
    "| 7   | Energy_potential_per_year     | kWh        | Energy_potential_per_year is the estimated yearly power potential of the rooftop based on PVOUT data from pvPlanner. |\n",
    "| 8   | Assumed_building_type         | NA         | Assumed_building_type describes the use type of the building, for example, commercial, industrial, public, or residential. |\n",
    "| 9   | Estimated_tilt                | degree     | Estimated_tilt is the slope angle of the rooftop                                            |\n",
    "| 10  | Estimated_building_height     | m          | Estimated_building_height gives a rough estimation of how tall the building is.            |\n",
    "| 11  | Estimated_capacity_factor     | NA         | Estimated_capacity_factor is a ratio calculated using yearly energy potential divided by the installable capacity. |\n",
    "| 12  | Estimated_installation_efficiency | kWh/m²  | Estimated_installation_efficiency is a ratio calculated using yearly energy potential divided by roof surface area. |\n",
    "| 13  | date_added                    | NA         | date_added tells the date when the dataset is produced.                                     |\n",
    "| 14  | aoi                           | NA         | aoi indicates the administrative area where the building is located.                        |\n",
    "| 15  | Roof_quality                  | NA         | Roof_quality indicates the quality or suitability of a roof for solar panel installation, the value can be Good, Medium, or Low. |\n",
    "| 16  | solar_panels                  | NA         | solar_panels indicates if there are any solar panels already installed on the roof.         |\n",
    "| 17  | comment                       | NA         | comment refers to any remark, feedback, or ground validation if there is any.               |\n"
   ]
  },
  {
   "cell_type": "markdown",
   "id": "d896cb33-37c9-4945-992e-e197dbb67f51",
   "metadata": {},
   "source": [
    "## Data Preparation "
   ]
  },
  {
   "cell_type": "code",
   "execution_count": 1,
   "id": "100b17d3-81a7-48d3-8432-28350c22b31d",
   "metadata": {},
   "outputs": [],
   "source": [
    "import numpy as np\n",
    "import pandas as pd\n",
    "import matplotlib.pyplot as plt\n",
    "import seaborn as sns\n",
    "\n",
    "import warnings\n",
    "\n",
    "warnings.filterwarnings('ignore')"
   ]
  },
  {
   "cell_type": "code",
   "execution_count": 25,
   "id": "d0dbd183-a346-4136-b313-5d1c61943386",
   "metadata": {},
   "outputs": [
    {
     "data": {
      "text/plain": [
       "solar_panels\n",
       "no     1470441\n",
       "yes      12964\n",
       "Name: count, dtype: int64"
      ]
     },
     "execution_count": 25,
     "metadata": {},
     "output_type": "execute_result"
    }
   ],
   "source": [
    "df['solar_panels'].value_counts()"
   ]
  },
  {
   "cell_type": "code",
   "execution_count": 28,
   "id": "a3987a20-083e-440f-aec6-26f863f38984",
   "metadata": {},
   "outputs": [
    {
     "data": {
      "text/plain": [
       "225.37"
      ]
     },
     "execution_count": 28,
     "metadata": {},
     "output_type": "execute_result"
    }
   ],
   "source": [
    "df['estimated_installation_efficiency'].max()"
   ]
  },
  {
   "cell_type": "code",
   "execution_count": 2,
   "id": "401d4b05-364f-4285-a939-a69cce172da0",
   "metadata": {
    "jupyter": {
     "source_hidden": true
    }
   },
   "outputs": [
    {
     "data": {
      "text/html": [
       "<div>\n",
       "<style scoped>\n",
       "    .dataframe tbody tr th:only-of-type {\n",
       "        vertical-align: middle;\n",
       "    }\n",
       "\n",
       "    .dataframe tbody tr th {\n",
       "        vertical-align: top;\n",
       "    }\n",
       "\n",
       "    .dataframe thead th {\n",
       "        text-align: right;\n",
       "    }\n",
       "</style>\n",
       "<table border=\"1\" class=\"dataframe\">\n",
       "  <thead>\n",
       "    <tr style=\"text-align: right;\">\n",
       "      <th></th>\n",
       "      <th>OBJECTID</th>\n",
       "      <th>uuid</th>\n",
       "      <th>City</th>\n",
       "      <th>Surface_area</th>\n",
       "      <th>Potential_installable_area</th>\n",
       "      <th>Peak_installable_capacity</th>\n",
       "      <th>Energy_potential_per_year</th>\n",
       "      <th>Assumed_building_type</th>\n",
       "      <th>Estimated_tilt</th>\n",
       "      <th>Estimated_building_height</th>\n",
       "      <th>Estimated_capacity_factor</th>\n",
       "      <th>Estimated_Installation_Efficiency</th>\n",
       "      <th>Unit_installation_price</th>\n",
       "      <th>Date_added</th>\n",
       "      <th>aoi</th>\n",
       "      <th>Roof_quality</th>\n",
       "      <th>solar_panels</th>\n",
       "      <th>Comment</th>\n",
       "    </tr>\n",
       "  </thead>\n",
       "  <tbody>\n",
       "    <tr>\n",
       "      <th>0</th>\n",
       "      <td>1</td>\n",
       "      <td>d57c9ad0-ab84-4a75-b42c-f0d68615e45d</td>\n",
       "      <td>LagosState</td>\n",
       "      <td>43.820000</td>\n",
       "      <td>22.990000</td>\n",
       "      <td>4.46</td>\n",
       "      <td>6226.520020</td>\n",
       "      <td>Single-family residential</td>\n",
       "      <td>0.00</td>\n",
       "      <td>NaN</td>\n",
       "      <td>1396.00</td>\n",
       "      <td>142.10</td>\n",
       "      <td>NaN</td>\n",
       "      <td>NaN</td>\n",
       "      <td>Badagry</td>\n",
       "      <td>medium</td>\n",
       "      <td>no</td>\n",
       "      <td>NaN</td>\n",
       "    </tr>\n",
       "    <tr>\n",
       "      <th>1</th>\n",
       "      <td>2</td>\n",
       "      <td>8ed6f0cc-ffb1-45d8-82ee-65e3db61b7c5</td>\n",
       "      <td>LagosState</td>\n",
       "      <td>25.020000</td>\n",
       "      <td>11.990000</td>\n",
       "      <td>2.33</td>\n",
       "      <td>2968.560059</td>\n",
       "      <td>Single-family residential</td>\n",
       "      <td>27.99</td>\n",
       "      <td>NaN</td>\n",
       "      <td>1276.00</td>\n",
       "      <td>118.65</td>\n",
       "      <td>NaN</td>\n",
       "      <td>NaN</td>\n",
       "      <td>Badagry</td>\n",
       "      <td>low</td>\n",
       "      <td>no</td>\n",
       "      <td>NaN</td>\n",
       "    </tr>\n",
       "    <tr>\n",
       "      <th>2</th>\n",
       "      <td>3</td>\n",
       "      <td>aff7ffb4-4b5b-44f4-be92-7613d71413be</td>\n",
       "      <td>LagosState</td>\n",
       "      <td>46.040001</td>\n",
       "      <td>24.469999</td>\n",
       "      <td>4.75</td>\n",
       "      <td>6177.589844</td>\n",
       "      <td>Single-family residential</td>\n",
       "      <td>20.52</td>\n",
       "      <td>NaN</td>\n",
       "      <td>1301.52</td>\n",
       "      <td>134.19</td>\n",
       "      <td>NaN</td>\n",
       "      <td>NaN</td>\n",
       "      <td>Badagry</td>\n",
       "      <td>low</td>\n",
       "      <td>no</td>\n",
       "      <td>NaN</td>\n",
       "    </tr>\n",
       "    <tr>\n",
       "      <th>3</th>\n",
       "      <td>4</td>\n",
       "      <td>d163c96b-40e7-43ba-a14c-7fd5df421aa2</td>\n",
       "      <td>LagosState</td>\n",
       "      <td>25.719999</td>\n",
       "      <td>12.340000</td>\n",
       "      <td>2.39</td>\n",
       "      <td>3241.939941</td>\n",
       "      <td>Single-family residential</td>\n",
       "      <td>17.83</td>\n",
       "      <td>NaN</td>\n",
       "      <td>1354.40</td>\n",
       "      <td>126.06</td>\n",
       "      <td>NaN</td>\n",
       "      <td>NaN</td>\n",
       "      <td>Badagry</td>\n",
       "      <td>low</td>\n",
       "      <td>no</td>\n",
       "      <td>NaN</td>\n",
       "    </tr>\n",
       "    <tr>\n",
       "      <th>4</th>\n",
       "      <td>5</td>\n",
       "      <td>044df35d-b99b-43a6-b967-d70408da3ecf</td>\n",
       "      <td>LagosState</td>\n",
       "      <td>36.250000</td>\n",
       "      <td>18.360001</td>\n",
       "      <td>3.56</td>\n",
       "      <td>4973.580078</td>\n",
       "      <td>Single-family residential</td>\n",
       "      <td>0.00</td>\n",
       "      <td>NaN</td>\n",
       "      <td>1396.00</td>\n",
       "      <td>137.21</td>\n",
       "      <td>NaN</td>\n",
       "      <td>NaN</td>\n",
       "      <td>Badagry</td>\n",
       "      <td>low</td>\n",
       "      <td>no</td>\n",
       "      <td>NaN</td>\n",
       "    </tr>\n",
       "  </tbody>\n",
       "</table>\n",
       "</div>"
      ],
      "text/plain": [
       "   OBJECTID                                  uuid        City  Surface_area  \\\n",
       "0         1  d57c9ad0-ab84-4a75-b42c-f0d68615e45d  LagosState     43.820000   \n",
       "1         2  8ed6f0cc-ffb1-45d8-82ee-65e3db61b7c5  LagosState     25.020000   \n",
       "2         3  aff7ffb4-4b5b-44f4-be92-7613d71413be  LagosState     46.040001   \n",
       "3         4  d163c96b-40e7-43ba-a14c-7fd5df421aa2  LagosState     25.719999   \n",
       "4         5  044df35d-b99b-43a6-b967-d70408da3ecf  LagosState     36.250000   \n",
       "\n",
       "   Potential_installable_area  Peak_installable_capacity  \\\n",
       "0                   22.990000                       4.46   \n",
       "1                   11.990000                       2.33   \n",
       "2                   24.469999                       4.75   \n",
       "3                   12.340000                       2.39   \n",
       "4                   18.360001                       3.56   \n",
       "\n",
       "   Energy_potential_per_year      Assumed_building_type  Estimated_tilt  \\\n",
       "0                6226.520020  Single-family residential            0.00   \n",
       "1                2968.560059  Single-family residential           27.99   \n",
       "2                6177.589844  Single-family residential           20.52   \n",
       "3                3241.939941  Single-family residential           17.83   \n",
       "4                4973.580078  Single-family residential            0.00   \n",
       "\n",
       "   Estimated_building_height  Estimated_capacity_factor  \\\n",
       "0                        NaN                    1396.00   \n",
       "1                        NaN                    1276.00   \n",
       "2                        NaN                    1301.52   \n",
       "3                        NaN                    1354.40   \n",
       "4                        NaN                    1396.00   \n",
       "\n",
       "   Estimated_Installation_Efficiency  Unit_installation_price  Date_added  \\\n",
       "0                             142.10                      NaN         NaN   \n",
       "1                             118.65                      NaN         NaN   \n",
       "2                             134.19                      NaN         NaN   \n",
       "3                             126.06                      NaN         NaN   \n",
       "4                             137.21                      NaN         NaN   \n",
       "\n",
       "       aoi Roof_quality solar_panels  Comment  \n",
       "0  Badagry       medium           no      NaN  \n",
       "1  Badagry          low           no      NaN  \n",
       "2  Badagry          low           no      NaN  \n",
       "3  Badagry          low           no      NaN  \n",
       "4  Badagry          low           no      NaN  "
      ]
     },
     "execution_count": 2,
     "metadata": {},
     "output_type": "execute_result"
    }
   ],
   "source": [
    "df = pd.read_csv('C:/Users/WOYES/Desktop/proj_only/solar_lag/dataset/solar_lag.csv')\n",
    "\n",
    "df.head()"
   ]
  },
  {
   "cell_type": "code",
   "execution_count": 3,
   "id": "0b09930e-b42a-4f85-893c-01d34b13804b",
   "metadata": {},
   "outputs": [
    {
     "data": {
      "text/html": [
       "<div>\n",
       "<style scoped>\n",
       "    .dataframe tbody tr th:only-of-type {\n",
       "        vertical-align: middle;\n",
       "    }\n",
       "\n",
       "    .dataframe tbody tr th {\n",
       "        vertical-align: top;\n",
       "    }\n",
       "\n",
       "    .dataframe thead th {\n",
       "        text-align: right;\n",
       "    }\n",
       "</style>\n",
       "<table border=\"1\" class=\"dataframe\">\n",
       "  <thead>\n",
       "    <tr style=\"text-align: right;\">\n",
       "      <th></th>\n",
       "      <th>objectid</th>\n",
       "      <th>uuid</th>\n",
       "      <th>city</th>\n",
       "      <th>surface_area</th>\n",
       "      <th>potential_installable_area</th>\n",
       "      <th>peak_installable_capacity</th>\n",
       "      <th>energy_potential_per_year</th>\n",
       "      <th>assumed_building_type</th>\n",
       "      <th>estimated_tilt</th>\n",
       "      <th>estimated_building_height</th>\n",
       "      <th>estimated_capacity_factor</th>\n",
       "      <th>estimated_installation_efficiency</th>\n",
       "      <th>unit_installation_price</th>\n",
       "      <th>date_added</th>\n",
       "      <th>aoi</th>\n",
       "      <th>roof_quality</th>\n",
       "      <th>solar_panels</th>\n",
       "      <th>comment</th>\n",
       "    </tr>\n",
       "  </thead>\n",
       "  <tbody>\n",
       "    <tr>\n",
       "      <th>0</th>\n",
       "      <td>1</td>\n",
       "      <td>d57c9ad0-ab84-4a75-b42c-f0d68615e45d</td>\n",
       "      <td>lagosstate</td>\n",
       "      <td>43.820000</td>\n",
       "      <td>22.990000</td>\n",
       "      <td>4.46</td>\n",
       "      <td>6226.520020</td>\n",
       "      <td>single-family_residential</td>\n",
       "      <td>0.00</td>\n",
       "      <td>NaN</td>\n",
       "      <td>1396.00</td>\n",
       "      <td>142.10</td>\n",
       "      <td>NaN</td>\n",
       "      <td>NaN</td>\n",
       "      <td>badagry</td>\n",
       "      <td>medium</td>\n",
       "      <td>no</td>\n",
       "      <td>NaN</td>\n",
       "    </tr>\n",
       "    <tr>\n",
       "      <th>1</th>\n",
       "      <td>2</td>\n",
       "      <td>8ed6f0cc-ffb1-45d8-82ee-65e3db61b7c5</td>\n",
       "      <td>lagosstate</td>\n",
       "      <td>25.020000</td>\n",
       "      <td>11.990000</td>\n",
       "      <td>2.33</td>\n",
       "      <td>2968.560059</td>\n",
       "      <td>single-family_residential</td>\n",
       "      <td>27.99</td>\n",
       "      <td>NaN</td>\n",
       "      <td>1276.00</td>\n",
       "      <td>118.65</td>\n",
       "      <td>NaN</td>\n",
       "      <td>NaN</td>\n",
       "      <td>badagry</td>\n",
       "      <td>low</td>\n",
       "      <td>no</td>\n",
       "      <td>NaN</td>\n",
       "    </tr>\n",
       "    <tr>\n",
       "      <th>2</th>\n",
       "      <td>3</td>\n",
       "      <td>aff7ffb4-4b5b-44f4-be92-7613d71413be</td>\n",
       "      <td>lagosstate</td>\n",
       "      <td>46.040001</td>\n",
       "      <td>24.469999</td>\n",
       "      <td>4.75</td>\n",
       "      <td>6177.589844</td>\n",
       "      <td>single-family_residential</td>\n",
       "      <td>20.52</td>\n",
       "      <td>NaN</td>\n",
       "      <td>1301.52</td>\n",
       "      <td>134.19</td>\n",
       "      <td>NaN</td>\n",
       "      <td>NaN</td>\n",
       "      <td>badagry</td>\n",
       "      <td>low</td>\n",
       "      <td>no</td>\n",
       "      <td>NaN</td>\n",
       "    </tr>\n",
       "    <tr>\n",
       "      <th>3</th>\n",
       "      <td>4</td>\n",
       "      <td>d163c96b-40e7-43ba-a14c-7fd5df421aa2</td>\n",
       "      <td>lagosstate</td>\n",
       "      <td>25.719999</td>\n",
       "      <td>12.340000</td>\n",
       "      <td>2.39</td>\n",
       "      <td>3241.939941</td>\n",
       "      <td>single-family_residential</td>\n",
       "      <td>17.83</td>\n",
       "      <td>NaN</td>\n",
       "      <td>1354.40</td>\n",
       "      <td>126.06</td>\n",
       "      <td>NaN</td>\n",
       "      <td>NaN</td>\n",
       "      <td>badagry</td>\n",
       "      <td>low</td>\n",
       "      <td>no</td>\n",
       "      <td>NaN</td>\n",
       "    </tr>\n",
       "    <tr>\n",
       "      <th>4</th>\n",
       "      <td>5</td>\n",
       "      <td>044df35d-b99b-43a6-b967-d70408da3ecf</td>\n",
       "      <td>lagosstate</td>\n",
       "      <td>36.250000</td>\n",
       "      <td>18.360001</td>\n",
       "      <td>3.56</td>\n",
       "      <td>4973.580078</td>\n",
       "      <td>single-family_residential</td>\n",
       "      <td>0.00</td>\n",
       "      <td>NaN</td>\n",
       "      <td>1396.00</td>\n",
       "      <td>137.21</td>\n",
       "      <td>NaN</td>\n",
       "      <td>NaN</td>\n",
       "      <td>badagry</td>\n",
       "      <td>low</td>\n",
       "      <td>no</td>\n",
       "      <td>NaN</td>\n",
       "    </tr>\n",
       "  </tbody>\n",
       "</table>\n",
       "</div>"
      ],
      "text/plain": [
       "   objectid                                  uuid        city  surface_area  \\\n",
       "0         1  d57c9ad0-ab84-4a75-b42c-f0d68615e45d  lagosstate     43.820000   \n",
       "1         2  8ed6f0cc-ffb1-45d8-82ee-65e3db61b7c5  lagosstate     25.020000   \n",
       "2         3  aff7ffb4-4b5b-44f4-be92-7613d71413be  lagosstate     46.040001   \n",
       "3         4  d163c96b-40e7-43ba-a14c-7fd5df421aa2  lagosstate     25.719999   \n",
       "4         5  044df35d-b99b-43a6-b967-d70408da3ecf  lagosstate     36.250000   \n",
       "\n",
       "   potential_installable_area  peak_installable_capacity  \\\n",
       "0                   22.990000                       4.46   \n",
       "1                   11.990000                       2.33   \n",
       "2                   24.469999                       4.75   \n",
       "3                   12.340000                       2.39   \n",
       "4                   18.360001                       3.56   \n",
       "\n",
       "   energy_potential_per_year      assumed_building_type  estimated_tilt  \\\n",
       "0                6226.520020  single-family_residential            0.00   \n",
       "1                2968.560059  single-family_residential           27.99   \n",
       "2                6177.589844  single-family_residential           20.52   \n",
       "3                3241.939941  single-family_residential           17.83   \n",
       "4                4973.580078  single-family_residential            0.00   \n",
       "\n",
       "   estimated_building_height  estimated_capacity_factor  \\\n",
       "0                        NaN                    1396.00   \n",
       "1                        NaN                    1276.00   \n",
       "2                        NaN                    1301.52   \n",
       "3                        NaN                    1354.40   \n",
       "4                        NaN                    1396.00   \n",
       "\n",
       "   estimated_installation_efficiency  unit_installation_price  date_added  \\\n",
       "0                             142.10                      NaN         NaN   \n",
       "1                             118.65                      NaN         NaN   \n",
       "2                             134.19                      NaN         NaN   \n",
       "3                             126.06                      NaN         NaN   \n",
       "4                             137.21                      NaN         NaN   \n",
       "\n",
       "       aoi roof_quality solar_panels  comment  \n",
       "0  badagry       medium           no      NaN  \n",
       "1  badagry          low           no      NaN  \n",
       "2  badagry          low           no      NaN  \n",
       "3  badagry          low           no      NaN  \n",
       "4  badagry          low           no      NaN  "
      ]
     },
     "execution_count": 3,
     "metadata": {},
     "output_type": "execute_result"
    }
   ],
   "source": [
    "# make the column names and values look uniform\n",
    "\n",
    "df.columns = df.columns.str.lower().str.replace(' ','_')\n",
    "\n",
    "cat_columns = list(df.dtypes[df.dtypes=='object'].index)\n",
    "\n",
    "for c in cat_columns:\n",
    "    df[c] = df[c].str.lower().str.replace(' ','_')\n",
    "\n",
    "# recheck the dataset\n",
    "df.head()"
   ]
  },
  {
   "cell_type": "code",
   "execution_count": 4,
   "id": "52a34d18-6efb-4a42-b4d6-2ebd82f9aa1f",
   "metadata": {},
   "outputs": [
    {
     "data": {
      "text/plain": [
       "(1542057, 18)"
      ]
     },
     "execution_count": 4,
     "metadata": {},
     "output_type": "execute_result"
    }
   ],
   "source": [
    "# check the shape of the dataset\n",
    "df.shape"
   ]
  },
  {
   "cell_type": "code",
   "execution_count": 5,
   "id": "47f55a69-a5f6-4596-b137-0f7864a35930",
   "metadata": {},
   "outputs": [
    {
     "data": {
      "text/plain": [
       "Index(['objectid', 'uuid', 'city', 'surface_area',\n",
       "       'potential_installable_area', 'peak_installable_capacity',\n",
       "       'energy_potential_per_year', 'assumed_building_type', 'estimated_tilt',\n",
       "       'estimated_building_height', 'estimated_capacity_factor',\n",
       "       'estimated_installation_efficiency', 'unit_installation_price',\n",
       "       'date_added', 'aoi', 'roof_quality', 'solar_panels', 'comment'],\n",
       "      dtype='object')"
      ]
     },
     "execution_count": 5,
     "metadata": {},
     "output_type": "execute_result"
    }
   ],
   "source": [
    "# check the column of the dataset\n",
    "df.columns"
   ]
  },
  {
   "cell_type": "code",
   "execution_count": 6,
   "id": "bc3911f8-062d-4d51-9116-ec39d23db5d7",
   "metadata": {},
   "outputs": [
    {
     "name": "stdout",
     "output_type": "stream",
     "text": [
      "<class 'pandas.core.frame.DataFrame'>\n",
      "RangeIndex: 1542057 entries, 0 to 1542056\n",
      "Data columns (total 18 columns):\n",
      " #   Column                             Non-Null Count    Dtype  \n",
      "---  ------                             --------------    -----  \n",
      " 0   objectid                           1542057 non-null  int64  \n",
      " 1   uuid                               1542057 non-null  object \n",
      " 2   city                               1542057 non-null  object \n",
      " 3   surface_area                       1542057 non-null  float64\n",
      " 4   potential_installable_area         1542057 non-null  float64\n",
      " 5   peak_installable_capacity          1542057 non-null  float64\n",
      " 6   energy_potential_per_year          1542057 non-null  float64\n",
      " 7   assumed_building_type              1542057 non-null  object \n",
      " 8   estimated_tilt                     1542057 non-null  float64\n",
      " 9   estimated_building_height          1323118 non-null  float64\n",
      " 10  estimated_capacity_factor          1539480 non-null  float64\n",
      " 11  estimated_installation_efficiency  1542057 non-null  float64\n",
      " 12  unit_installation_price            0 non-null        float64\n",
      " 13  date_added                         0 non-null        float64\n",
      " 14  aoi                                1542057 non-null  object \n",
      " 15  roof_quality                       1542057 non-null  object \n",
      " 16  solar_panels                       1542057 non-null  object \n",
      " 17  comment                            0 non-null        float64\n",
      "dtypes: float64(11), int64(1), object(6)\n",
      "memory usage: 211.8+ MB\n"
     ]
    }
   ],
   "source": [
    "# check the data info\n",
    "df.info()"
   ]
  },
  {
   "cell_type": "code",
   "execution_count": 7,
   "id": "1e9ac994-079a-4b3c-b232-86d8774353eb",
   "metadata": {},
   "outputs": [
    {
     "data": {
      "text/html": [
       "<div>\n",
       "<style scoped>\n",
       "    .dataframe tbody tr th:only-of-type {\n",
       "        vertical-align: middle;\n",
       "    }\n",
       "\n",
       "    .dataframe tbody tr th {\n",
       "        vertical-align: top;\n",
       "    }\n",
       "\n",
       "    .dataframe thead th {\n",
       "        text-align: right;\n",
       "    }\n",
       "</style>\n",
       "<table border=\"1\" class=\"dataframe\">\n",
       "  <thead>\n",
       "    <tr style=\"text-align: right;\">\n",
       "      <th></th>\n",
       "      <th>objectid</th>\n",
       "      <th>uuid</th>\n",
       "      <th>city</th>\n",
       "      <th>unit_installation_price</th>\n",
       "      <th>date_added</th>\n",
       "      <th>comment</th>\n",
       "    </tr>\n",
       "  </thead>\n",
       "  <tbody>\n",
       "    <tr>\n",
       "      <th>0</th>\n",
       "      <td>1</td>\n",
       "      <td>d57c9ad0-ab84-4a75-b42c-f0d68615e45d</td>\n",
       "      <td>lagosstate</td>\n",
       "      <td>NaN</td>\n",
       "      <td>NaN</td>\n",
       "      <td>NaN</td>\n",
       "    </tr>\n",
       "    <tr>\n",
       "      <th>1</th>\n",
       "      <td>2</td>\n",
       "      <td>8ed6f0cc-ffb1-45d8-82ee-65e3db61b7c5</td>\n",
       "      <td>lagosstate</td>\n",
       "      <td>NaN</td>\n",
       "      <td>NaN</td>\n",
       "      <td>NaN</td>\n",
       "    </tr>\n",
       "    <tr>\n",
       "      <th>2</th>\n",
       "      <td>3</td>\n",
       "      <td>aff7ffb4-4b5b-44f4-be92-7613d71413be</td>\n",
       "      <td>lagosstate</td>\n",
       "      <td>NaN</td>\n",
       "      <td>NaN</td>\n",
       "      <td>NaN</td>\n",
       "    </tr>\n",
       "    <tr>\n",
       "      <th>3</th>\n",
       "      <td>4</td>\n",
       "      <td>d163c96b-40e7-43ba-a14c-7fd5df421aa2</td>\n",
       "      <td>lagosstate</td>\n",
       "      <td>NaN</td>\n",
       "      <td>NaN</td>\n",
       "      <td>NaN</td>\n",
       "    </tr>\n",
       "    <tr>\n",
       "      <th>4</th>\n",
       "      <td>5</td>\n",
       "      <td>044df35d-b99b-43a6-b967-d70408da3ecf</td>\n",
       "      <td>lagosstate</td>\n",
       "      <td>NaN</td>\n",
       "      <td>NaN</td>\n",
       "      <td>NaN</td>\n",
       "    </tr>\n",
       "    <tr>\n",
       "      <th>5</th>\n",
       "      <td>6</td>\n",
       "      <td>f312de25-c87d-4f4a-a683-703bbc6284b1</td>\n",
       "      <td>lagosstate</td>\n",
       "      <td>NaN</td>\n",
       "      <td>NaN</td>\n",
       "      <td>NaN</td>\n",
       "    </tr>\n",
       "    <tr>\n",
       "      <th>6</th>\n",
       "      <td>7</td>\n",
       "      <td>1c0130ad-379e-4e76-9be8-81ee79194bd7</td>\n",
       "      <td>lagosstate</td>\n",
       "      <td>NaN</td>\n",
       "      <td>NaN</td>\n",
       "      <td>NaN</td>\n",
       "    </tr>\n",
       "    <tr>\n",
       "      <th>7</th>\n",
       "      <td>8</td>\n",
       "      <td>df836baa-ecf7-495a-b072-6662562407ea</td>\n",
       "      <td>lagosstate</td>\n",
       "      <td>NaN</td>\n",
       "      <td>NaN</td>\n",
       "      <td>NaN</td>\n",
       "    </tr>\n",
       "    <tr>\n",
       "      <th>8</th>\n",
       "      <td>9</td>\n",
       "      <td>eb40d3b1-9966-4c00-8596-a4572f34acf9</td>\n",
       "      <td>lagosstate</td>\n",
       "      <td>NaN</td>\n",
       "      <td>NaN</td>\n",
       "      <td>NaN</td>\n",
       "    </tr>\n",
       "    <tr>\n",
       "      <th>9</th>\n",
       "      <td>10</td>\n",
       "      <td>9d202564-2990-4321-9677-56aedb76793d</td>\n",
       "      <td>lagosstate</td>\n",
       "      <td>NaN</td>\n",
       "      <td>NaN</td>\n",
       "      <td>NaN</td>\n",
       "    </tr>\n",
       "  </tbody>\n",
       "</table>\n",
       "</div>"
      ],
      "text/plain": [
       "   objectid                                  uuid        city  \\\n",
       "0         1  d57c9ad0-ab84-4a75-b42c-f0d68615e45d  lagosstate   \n",
       "1         2  8ed6f0cc-ffb1-45d8-82ee-65e3db61b7c5  lagosstate   \n",
       "2         3  aff7ffb4-4b5b-44f4-be92-7613d71413be  lagosstate   \n",
       "3         4  d163c96b-40e7-43ba-a14c-7fd5df421aa2  lagosstate   \n",
       "4         5  044df35d-b99b-43a6-b967-d70408da3ecf  lagosstate   \n",
       "5         6  f312de25-c87d-4f4a-a683-703bbc6284b1  lagosstate   \n",
       "6         7  1c0130ad-379e-4e76-9be8-81ee79194bd7  lagosstate   \n",
       "7         8  df836baa-ecf7-495a-b072-6662562407ea  lagosstate   \n",
       "8         9  eb40d3b1-9966-4c00-8596-a4572f34acf9  lagosstate   \n",
       "9        10  9d202564-2990-4321-9677-56aedb76793d  lagosstate   \n",
       "\n",
       "   unit_installation_price  date_added  comment  \n",
       "0                      NaN         NaN      NaN  \n",
       "1                      NaN         NaN      NaN  \n",
       "2                      NaN         NaN      NaN  \n",
       "3                      NaN         NaN      NaN  \n",
       "4                      NaN         NaN      NaN  \n",
       "5                      NaN         NaN      NaN  \n",
       "6                      NaN         NaN      NaN  \n",
       "7                      NaN         NaN      NaN  \n",
       "8                      NaN         NaN      NaN  \n",
       "9                      NaN         NaN      NaN  "
      ]
     },
     "execution_count": 7,
     "metadata": {},
     "output_type": "execute_result"
    }
   ],
   "source": [
    "# display the following features\n",
    "df[['objectid','uuid','city','unit_installation_price','date_added','comment']].head(10)"
   ]
  },
  {
   "cell_type": "code",
   "execution_count": 8,
   "id": "7658606e-a062-4c4c-b400-16961c2c83c4",
   "metadata": {},
   "outputs": [],
   "source": [
    "# Remove unwanted features from the dataset for better analysis\n",
    "df.drop(columns = ['objectid','uuid','city','unit_installation_price','date_added','comment'], inplace =True)"
   ]
  },
  {
   "cell_type": "code",
   "execution_count": 9,
   "id": "74e02b2b-cb94-4564-afd6-b45b89dbb547",
   "metadata": {},
   "outputs": [
    {
     "data": {
      "text/plain": [
       "16"
      ]
     },
     "execution_count": 9,
     "metadata": {},
     "output_type": "execute_result"
    }
   ],
   "source": [
    "# check for dupliplicate\n",
    "df.duplicated().sum()"
   ]
  },
  {
   "cell_type": "code",
   "execution_count": 10,
   "id": "35bd7e6c-ca62-4715-8ec5-96a7ab841da5",
   "metadata": {},
   "outputs": [
    {
     "name": "stdout",
     "output_type": "stream",
     "text": [
      "(1542041, 12)\n"
     ]
    }
   ],
   "source": [
    "# Remove duplicate values\n",
    "df = df.drop_duplicates()\n",
    "\n",
    "# Recheck the dataset\n",
    "print(df.shape)"
   ]
  },
  {
   "cell_type": "code",
   "execution_count": 11,
   "id": "ec842d15-7fb0-4eb1-993f-3732362dd3aa",
   "metadata": {},
   "outputs": [],
   "source": [
    "# Rename 'aoi' to 'lga' for easy interpretation\n",
    "df = df.rename(columns = {'aoi':'lga'})"
   ]
  },
  {
   "cell_type": "code",
   "execution_count": 12,
   "id": "9bf5d22d-36ec-406a-93b9-4474ad5f677d",
   "metadata": {},
   "outputs": [
    {
     "data": {
      "text/plain": [
       "lga\n",
       "ikorodu             300479\n",
       "alimosho            286266\n",
       "badagry             131676\n",
       "eti-osa             114296\n",
       "ojo                 113719\n",
       "ibeju/lekki          79774\n",
       "oshodi-isolo         64071\n",
       "kosofe               57051\n",
       "ogun                 56077\n",
       "ifako-ijaye          54301\n",
       "amuwo-odofin         52555\n",
       "epe                  40874\n",
       "ikeja                36890\n",
       "surulere             32711\n",
       "mushin               25655\n",
       "ajeromi-ifelodun     21763\n",
       "agege                20735\n",
       "lagos_mainland       18704\n",
       "shomolu              16680\n",
       "apapa                11197\n",
       "lagos_island          6567\n",
       "Name: count, dtype: int64"
      ]
     },
     "execution_count": 12,
     "metadata": {},
     "output_type": "execute_result"
    }
   ],
   "source": [
    "# count the values in each local goverment area\n",
    "\n",
    "df['lga'].value_counts()\n"
   ]
  },
  {
   "cell_type": "markdown",
   "id": "bc11dc47-47a7-4e2a-9788-894f338f4e00",
   "metadata": {},
   "source": [
    "`Ogun` is another state in Nigeria and not a local government area in Lagos; hence, we should remove it."
   ]
  },
  {
   "cell_type": "code",
   "execution_count": 13,
   "id": "be068e4f-1e21-4321-986d-4beb2adec985",
   "metadata": {},
   "outputs": [
    {
     "data": {
      "text/plain": [
       "(1485964, 12)"
      ]
     },
     "execution_count": 13,
     "metadata": {},
     "output_type": "execute_result"
    }
   ],
   "source": [
    "# Drop rows where the 'area' column is equal to 'ogun'\n",
    "df = df[df['lga'] != 'ogun']\n",
    "\n",
    "df.shape"
   ]
  },
  {
   "cell_type": "markdown",
   "id": "eb30c273-acbb-4487-b35f-f1ddff94e914",
   "metadata": {},
   "source": [
    " "
   ]
  },
  {
   "cell_type": "code",
   "execution_count": 14,
   "id": "638fda04-4b71-4d81-a47d-4f85502a789b",
   "metadata": {
    "scrolled": true
   },
   "outputs": [
    {
     "data": {
      "text/plain": [
       "surface_area                              0\n",
       "potential_installable_area                0\n",
       "peak_installable_capacity                 0\n",
       "energy_potential_per_year                 0\n",
       "assumed_building_type                     0\n",
       "estimated_tilt                            0\n",
       "estimated_building_height            210310\n",
       "estimated_capacity_factor              2559\n",
       "estimated_installation_efficiency         0\n",
       "lga                                       0\n",
       "roof_quality                              0\n",
       "solar_panels                              0\n",
       "dtype: int64"
      ]
     },
     "execution_count": 14,
     "metadata": {},
     "output_type": "execute_result"
    }
   ],
   "source": [
    "# check for missing values\n",
    "df.isnull().sum()"
   ]
  },
  {
   "cell_type": "markdown",
   "id": "0176d116-a440-4f57-8a53-792be45fef11",
   "metadata": {},
   "source": [
    "  "
   ]
  },
  {
   "cell_type": "markdown",
   "id": "b8cbcf3d-6056-4c92-9c2b-206846523aaa",
   "metadata": {},
   "source": [
    "⚠️ **A common \"rule of thumb\" in data analysis is to drop missing values from a dataset if they constitute 5% or less of the total data points, as removing such a small amount of data generally won't significantly impact the analysis; however, if missing values exceed 5%, consider alternative methods like imputation to fill in the gaps.**"
   ]
  },
  {
   "cell_type": "code",
   "execution_count": 15,
   "id": "e2c2530b-6b91-4445-a70c-cca3d43e022d",
   "metadata": {},
   "outputs": [
    {
     "data": {
      "text/plain": [
       "surface_area                          0.000000\n",
       "potential_installable_area            0.000000\n",
       "peak_installable_capacity             0.000000\n",
       "energy_potential_per_year             0.000000\n",
       "assumed_building_type                 0.000000\n",
       "estimated_tilt                        0.000000\n",
       "estimated_building_height            14.153102\n",
       "estimated_capacity_factor             0.172211\n",
       "estimated_installation_efficiency     0.000000\n",
       "lga                                   0.000000\n",
       "roof_quality                          0.000000\n",
       "solar_panels                          0.000000\n",
       "dtype: float64"
      ]
     },
     "execution_count": 15,
     "metadata": {},
     "output_type": "execute_result"
    }
   ],
   "source": [
    "# check the percentage of missing value\n",
    "(df.isnull().sum()/len(df))*100"
   ]
  },
  {
   "cell_type": "markdown",
   "id": "f1389116-2e2f-47bf-8db7-216394e82c6e",
   "metadata": {},
   "source": [
    " Since `estimated_capacity_factor` is far less than 5% of our dataset, we can simply drop it off."
   ]
  },
  {
   "cell_type": "code",
   "execution_count": 16,
   "id": "806663db-6dac-412a-b63e-f64f887164a3",
   "metadata": {},
   "outputs": [
    {
     "data": {
      "text/plain": [
       "surface_area                              0\n",
       "potential_installable_area                0\n",
       "peak_installable_capacity                 0\n",
       "energy_potential_per_year                 0\n",
       "assumed_building_type                     0\n",
       "estimated_tilt                            0\n",
       "estimated_building_height            209126\n",
       "estimated_capacity_factor                 0\n",
       "estimated_installation_efficiency         0\n",
       "lga                                       0\n",
       "roof_quality                              0\n",
       "solar_panels                              0\n",
       "dtype: int64"
      ]
     },
     "execution_count": 16,
     "metadata": {},
     "output_type": "execute_result"
    }
   ],
   "source": [
    "# drop estimated_capacity_factor\n",
    "df = df[df['estimated_capacity_factor'].notna()]\n",
    "\n",
    "# comfirm that\n",
    "df.isna().sum()"
   ]
  },
  {
   "cell_type": "markdown",
   "id": "486f9d7c-fd1e-4fec-926e-344883c5312c",
   "metadata": {},
   "source": [
    "However, `estimated_building_height` missing values percentage is more than 5%, so let's impute"
   ]
  },
  {
   "cell_type": "code",
   "execution_count": 17,
   "id": "529117a3-106b-45e4-a595-3d9727543407",
   "metadata": {},
   "outputs": [
    {
     "data": {
      "image/png": "[encoded data removed]",
      "text/plain": [
       "<Figure size 640x480 with 1 Axes>"
      ]
     },
     "metadata": {},
     "output_type": "display_data"
    }
   ],
   "source": [
    "# visualize the distribution of estimated_building_height\n",
    "plt.hist(df['estimated_building_height'], bins=70, edgecolor='black')\n",
    "\n",
    "plt.xlim([0, 45])\n",
    "plt.title(\"Estimated Building Height Distribution\")\n",
    "plt.xlabel('Building Height (m)')\n",
    "plt.ylabel('Frequency')\n",
    "\n",
    "plt.show()"
   ]
  },
  {
   "cell_type": "markdown",
   "id": "19f59929-a586-4924-a8c3-8e9b92b8f405",
   "metadata": {},
   "source": [
    " "
   ]
  },
  {
   "cell_type": "markdown",
   "id": "95328129-c26e-4fa4-99ae-0748013d8a0e",
   "metadata": {},
   "source": [
    "We see our distribution is right skewed with most building height between 3-4 metres (which is common for most residential_buildings).\n",
    "\n",
    "Let's visualize the distribution for each unique features in `estimated_building_height`"
   ]
  },
  {
   "cell_type": "code",
   "execution_count": 18,
   "id": "45f177d3-5ab2-43c2-ac8b-b0cf18aae287",
   "metadata": {},
   "outputs": [
    {
     "name": "stdout",
     "output_type": "stream",
     "text": [
      "assumed_building_type\n",
      "single-family_residential    1292177\n",
      "commercial                     88474\n",
      "public                         26792\n",
      "multi-family_residential       26298\n",
      "industrial                     22074\n",
      "schools                        16360\n",
      "public_health_facilities        7270\n",
      "hotels                          3960\n",
      "Name: count, dtype: int64\n"
     ]
    }
   ],
   "source": [
    "# Count the number of buildings in each type\n",
    "print(df['assumed_building_type'].value_counts())\n"
   ]
  },
  {
   "cell_type": "code",
   "execution_count": 19,
   "id": "a1ab5bfd-f8ea-4ab2-a237-840ea3d7a4ec",
   "metadata": {},
   "outputs": [],
   "source": [
    "# Filter for residential, industrial, and commercial buildings\n",
    "single_family = df[df['assumed_building_type'] == 'single-family_residential']\n",
    "commercial= df[df['assumed_building_type'] == 'commercial']\n",
    "public= df[df['assumed_building_type'] == 'public']\n",
    "multi_family = df[df['assumed_building_type'] == 'multi-family_residential']\n",
    "industrial = df[df['assumed_building_type'] == 'industrial']\n",
    "schools = df[df['assumed_building_type'] == 'schools']\n",
    "public_health = df[df['assumed_building_type'] == 'public_health_facilities']\n",
    "hotels = df[df['assumed_building_type'] == 'hotels']"
   ]
  },
  {
   "cell_type": "code",
   "execution_count": 20,
   "id": "11016ba1-fbc6-4e50-b154-736bc6048c99",
   "metadata": {},
   "outputs": [
    {
     "data": {
      "image/png": "[encoded data removed]",
      "text/plain": [
       "<Figure size 1500x2000 with 8 Axes>"
      ]
     },
     "metadata": {},
     "output_type": "display_data"
    }
   ],
   "source": [
    "# Plot histograms for each building type side by side\n",
    "building_types = {\n",
    "    \"Single-Family Residential\": single_family,\n",
    "    \"Commercial\": commercial,\n",
    "    \"Public\": public,\n",
    "    \"Multi-Family Residential\": multi_family,\n",
    "    \"Industrial\": industrial,\n",
    "    \"Schools\": schools,\n",
    "    \"Public Health\": public_health,\n",
    "    \"Hotels\": hotels\n",
    "}\n",
    "\n",
    "# Determine the layout of subplots\n",
    "num_plots = len(building_types)\n",
    "cols = 2\n",
    "rows = (num_plots + cols - 1) // cols\n",
    "\n",
    "# Create subplots\n",
    "fig, axes = plt.subplots(rows, cols, figsize=(15, 5 * rows))\n",
    "axes = axes.flatten()\n",
    "\n",
    "# Plot each distribution\n",
    "for i, (name, subset) in enumerate(building_types.items()):\n",
    "    ax = axes[i]\n",
    "    ax.hist(subset['estimated_building_height'], bins=50, alpha=0.7, label=name, edgecolor='black')\n",
    "    ax.set_title(f\"{name} - Distribution\")\n",
    "    ax.set_xlabel('Building Height (m)')\n",
    "    ax.set_ylabel('Frequency')\n",
    "    ax.legend()\n",
    "\n",
    "plt.tight_layout()\n",
    "plt.show()\n"
   ]
  },
  {
   "cell_type": "markdown",
   "id": "30907ad8-7b0a-45fe-b5f0-3e37e9ea38e0",
   "metadata": {},
   "source": [
    "Our building height varies significantly by building type (e.g., single_residential vs. industrial). Let's calculate the median separately for each group and fill in."
   ]
  },
  {
   "cell_type": "code",
   "execution_count": 21,
   "id": "cef80aae-2639-4073-a5e4-c32487030e77",
   "metadata": {},
   "outputs": [],
   "source": [
    "# fill in missing value by the median value of each building type\n",
    "df['estimated_building_height'] = df.groupby('assumed_building_type')['estimated_building_height'].transform(lambda x: x.fillna(x.median()))"
   ]
  },
  {
   "cell_type": "code",
   "execution_count": 22,
   "id": "e1b3a554-8743-4b1d-bd07-bd37629926b3",
   "metadata": {},
   "outputs": [
    {
     "data": {
      "text/plain": [
       "surface_area                         0\n",
       "potential_installable_area           0\n",
       "peak_installable_capacity            0\n",
       "energy_potential_per_year            0\n",
       "assumed_building_type                0\n",
       "estimated_tilt                       0\n",
       "estimated_building_height            0\n",
       "estimated_capacity_factor            0\n",
       "estimated_installation_efficiency    0\n",
       "lga                                  0\n",
       "roof_quality                         0\n",
       "solar_panels                         0\n",
       "dtype: int64"
      ]
     },
     "execution_count": 22,
     "metadata": {},
     "output_type": "execute_result"
    }
   ],
   "source": [
    "df.isna().sum()"
   ]
  },
  {
   "cell_type": "code",
   "execution_count": 23,
   "id": "6c822319-1737-40d5-8d5e-aaf7b5198d72",
   "metadata": {},
   "outputs": [
    {
     "data": {
      "text/plain": [
       "(1483405, 12)"
      ]
     },
     "execution_count": 23,
     "metadata": {},
     "output_type": "execute_result"
    }
   ],
   "source": [
    "# new data shape\n",
    "df.shape"
   ]
  },
  {
   "cell_type": "code",
   "execution_count": 24,
   "id": "cc381b24-6836-40de-93e3-6fb74e2cb500",
   "metadata": {},
   "outputs": [],
   "source": [
    "# save the clean data\n",
    "# df.to_csv('df_cleaned_data.csv', index=False)"
   ]
  },
  {
   "cell_type": "markdown",
   "id": "9d1b9896-22cd-42e8-adc5-1ee0d6cf0436",
   "metadata": {},
   "source": [
    "# Conclusion"
   ]
  },
  {
   "cell_type": "markdown",
   "id": "6d4f0258-cdde-4e4a-a66a-a6a323a6d888",
   "metadata": {},
   "source": [
    "Now that we are done cleaning our dataset, let's build an interactive dashboard using Power BI to visualize solar potential across Lagos, enabling stakeholders to explore key metrics like energy output, installation capacity, and building suitability."
   ]
  },
  {
   "cell_type": "code",
   "execution_count": null,
   "id": "d23cae40-5d56-4c7c-8335-6455b8731c86",
   "metadata": {},
   "outputs": [],
   "source": []
  }
 ],
 "metadata": {
  "kernelspec": {
   "display_name": "Python 3 (ipykernel)",
   "language": "python",
   "name": "python3"
  },
  "language_info": {
   "codemirror_mode": {
    "name": "ipython",
    "version": 3
   },
   "file_extension": ".py",
   "mimetype": "text/x-python",
   "name": "python",
   "nbconvert_exporter": "python",
   "pygments_lexer": "ipython3",
   "version": "3.8.20"
  }
 },
 "nbformat": 4,
 "nbformat_minor": 5
}
